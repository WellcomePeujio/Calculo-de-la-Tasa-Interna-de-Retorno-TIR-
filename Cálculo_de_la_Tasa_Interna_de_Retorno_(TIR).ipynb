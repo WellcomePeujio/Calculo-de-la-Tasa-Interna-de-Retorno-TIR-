{
  "nbformat": 4,
  "nbformat_minor": 0,
  "metadata": {
    "colab": {
      "private_outputs": true,
      "provenance": [],
      "authorship_tag": "ABX9TyNAWBgOBdRKSOqs84HndBfs",
      "include_colab_link": true
    },
    "kernelspec": {
      "name": "python3",
      "display_name": "Python 3"
    },
    "language_info": {
      "name": "python"
    }
  },
  "cells": [
    {
      "cell_type": "markdown",
      "metadata": {
        "id": "view-in-github",
        "colab_type": "text"
      },
      "source": [
        "<a href=\"https://colab.research.google.com/github/WellcomePeujio/Calculo-de-la-Tasa-Interna-de-Retorno-TIR-/blob/main/C%C3%A1lculo_de_la_Tasa_Interna_de_Retorno_(TIR).ipynb\" target=\"_parent\"><img src=\"https://colab.research.google.com/assets/colab-badge.svg\" alt=\"Open In Colab\"/></a>"
      ]
    },
    {
      "cell_type": "markdown",
      "source": [
        "# Cálculo de la Tasa Interna de Retorno (TIR)\n",
        "\n",
        "**Problema**: Una empresa evalúa un proyecto que requiere una inversión inicial de $300,000 y genera los siguientes flujos de caja:\n",
        "\n",
        "| Año | Flujo de Caja ($) |\n",
        "|-----|-------------------|\n",
        "| 1   | 50,000            |\n",
        "| 2   | 100,000           |\n",
        "| 3   | 150,000           |\n",
        "| 4   | 200,000           |\n",
        "\n",
        "---\n",
        "\n",
        "**Preguntas**:\n",
        "\n",
        "1. Calcula la Tasa Interna de Retorno (TIR) del proyecto.\n",
        "2. ¿Es rentable este proyecto si el costo del capital es del 8%?\n"
      ],
      "metadata": {
        "id": "JTh2U2DLQXu1"
      }
    },
    {
      "cell_type": "markdown",
      "source": [
        "# Resolución Matemática: Cálculo de la Tasa Interna de Retorno (TIR)\n",
        "\n",
        "## Paso 1: Fórmula del Valor Actual Neto (VAN)\n",
        "\n",
        "El Valor Actual Neto ($VAN$) de un proyecto está dado por:\n",
        "\n",
        "$$\n",
        "VAN = \\sum_{t=1}^{n} \\frac{F_t}{(1 + r)^t} - C_0\n",
        "$$\n",
        "\n",
        "Donde:\n",
        "- $F_t$: Flujo de caja en el año $t$.\n",
        "- $r$: Tasa de descuento o retorno.\n",
        "- $C_0$: Inversión inicial.\n",
        "- $n$: Número de periodos.\n",
        "\n",
        "Para este problema:\n",
        "- $C_0 = 300,000$\n",
        "- $F_1 = 50,000$, $F_2 = 100,000$, $F_3 = 150,000$, $F_4 = 200,000$\n",
        "\n",
        "---\n",
        "\n",
        "## Paso 2: Definición de la Tasa Interna de Retorno (TIR)\n",
        "\n",
        "La TIR es la tasa de retorno ($r$) que hace que el $VAN$ sea igual a cero:\n",
        "\n",
        "$$\n",
        "0 = \\sum_{t=1}^{n} \\frac{F_t}{(1 + r)^t} - C_0\n",
        "$$\n",
        "\n",
        "Sustituyendo los valores:\n",
        "\n",
        "$$\n",
        "0 = \\frac{50,000}{(1 + r)^1} + \\frac{100,000}{(1 + r)^2} + \\frac{150,000}{(1 + r)^3} + \\frac{200,000}{(1 + r)^4} - 300,000\n",
        "$$\n",
        "\n",
        "---\n",
        "\n",
        "## Paso 3: Resolución Numérica\n",
        "\n",
        "No existe una solución analítica para la ecuación de la TIR, por lo que se resuelve numéricamente utilizando métodos iterativos como el método de Newton-Raphson.\n",
        "\n",
        "---\n",
        "\n",
        "## Paso 4: Rentabilidad del Proyecto\n",
        "\n",
        "El proyecto es **rentable** si la TIR es mayor que el costo del capital. Para este problema, el costo del capital es del 8% ($r = 0.08$). Comparamos el valor de la TIR calculada con esta tasa para determinar la viabilidad del proyecto.\n"
      ],
      "metadata": {
        "id": "wAswb2CJQZu-"
      }
    },
    {
      "cell_type": "code",
      "source": [
        "import numpy as np\n",
        "import matplotlib.pyplot as plt\n",
        "from scipy.optimize import fsolve\n",
        "\n",
        "# Datos del problema\n",
        "inversion_inicial = 300000\n",
        "flujos_de_caja = [50000, 100000, 150000, 200000]\n",
        "\n",
        "# Función del VAN\n",
        "def van(tasa):\n",
        "    return sum(f / (1 + tasa) ** (i + 1) for i, f in enumerate(flujos_de_caja)) - inversion_inicial\n",
        "\n",
        "# Calcular la TIR resolviendo VAN = 0\n",
        "tir = fsolve(van, 0.1)[0]\n",
        "\n",
        "# Generar datos para la gráfica de VAN\n",
        "tasas = np.linspace(0, 0.3, 100)\n",
        "valores_van = [van(t) for t in tasas]\n",
        "\n",
        "# Graficar la evolución del VAN\n",
        "plt.figure(figsize=(10, 6))\n",
        "plt.plot(tasas * 100, valores_van, label='VAN', color='blue', lw=2)\n",
        "plt.axhline(0, color='red', linestyle='--', label='VAN = 0')\n",
        "plt.scatter(tir * 100, 0, color='green', label=f'TIR = {tir * 100:.2f}%', zorder=5)\n",
        "plt.title('Evolución del VAN según la Tasa de Descuento', fontsize=16)\n",
        "plt.xlabel('Tasa de Descuento (%)', fontsize=14)\n",
        "plt.ylabel('Valor Actual Neto (VAN)', fontsize=14)\n",
        "plt.legend(fontsize=12)\n",
        "plt.grid(alpha=0.3)\n",
        "plt.tight_layout()\n",
        "plt.show()\n",
        "\n",
        "# Comparación con el costo de capital\n",
        "costo_capital = 0.08\n",
        "es_rentable = tir > costo_capital\n",
        "\n",
        "tir, es_rentable"
      ],
      "metadata": {
        "id": "qHATbHGjReHB"
      },
      "execution_count": null,
      "outputs": []
    }
  ]
}